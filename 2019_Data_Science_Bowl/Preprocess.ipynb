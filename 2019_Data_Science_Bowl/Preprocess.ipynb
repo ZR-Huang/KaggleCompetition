{
 "cells": [
  {
   "cell_type": "code",
   "execution_count": 1,
   "metadata": {},
   "outputs": [],
   "source": [
    "import pandas as pd\n",
    "import os\n"
   ]
  },
  {
   "cell_type": "code",
   "execution_count": 2,
   "metadata": {},
   "outputs": [
    {
     "name": "stdout",
     "output_type": "stream",
     "text": "CPU times: user 48 s, sys: 5.12 s, total: 53.1 s\nWall time: 53.1 s\n"
    }
   ],
   "source": [
    "%%time\n",
    "# Read files\n",
    "train = pd.read_csv('2019_Data_Science_Bowl/data/train.csv')\n",
    "train_labels = pd.read_csv('2019_Data_Science_Bowl/data/train_labels.csv')\n",
    "test = pd.read_csv('2019_Data_Science_Bowl/data/test.csv')"
   ]
  },
  {
   "cell_type": "code",
   "execution_count": 3,
   "metadata": {},
   "outputs": [
    {
     "name": "stdout",
     "output_type": "stream",
     "text": "(7734558, 11)\nCPU times: user 7 s, sys: 2.14 s, total: 9.14 s\nWall time: 9.13 s\n"
    }
   ],
   "source": [
    "%%time\n",
    "keep_id = train[train.type == 'Assessment'][['installation_id']].drop_duplicates()\n",
    "train = pd.merge(train, keep_id, on='installation_id')\n",
    "train = train[train.installation_id.isin(train_labels.installation_id.unique())]\n",
    "print(train.shape)"
   ]
  },
  {
   "cell_type": "code",
   "execution_count": 4,
   "metadata": {},
   "outputs": [
    {
     "data": {
      "text/html": "<div>\n<style scoped>\n    .dataframe tbody tr th:only-of-type {\n        vertical-align: middle;\n    }\n\n    .dataframe tbody tr th {\n        vertical-align: top;\n    }\n\n    .dataframe thead th {\n        text-align: right;\n    }\n</style>\n<table border=\"1\" class=\"dataframe\">\n  <thead>\n    <tr style=\"text-align: right;\">\n      <th></th>\n      <th>event_id</th>\n      <th>game_session</th>\n      <th>timestamp</th>\n      <th>event_data</th>\n      <th>installation_id</th>\n      <th>event_count</th>\n      <th>event_code</th>\n      <th>game_time</th>\n      <th>title</th>\n      <th>type</th>\n      <th>world</th>\n    </tr>\n  </thead>\n  <tbody>\n    <tr>\n      <th>17762</th>\n      <td>f56e0afc</td>\n      <td>acf50980a62ca93a</td>\n      <td>2019-08-12T19:32:50.447Z</td>\n      <td>{\"version\":\"1.0\",\"event_count\":1,\"game_time\":0...</td>\n      <td>002db7e3</td>\n      <td>1</td>\n      <td>2000</td>\n      <td>0</td>\n      <td>Bird Measurer (Assessment)</td>\n      <td>Assessment</td>\n      <td>TREETOPCITY</td>\n    </tr>\n    <tr>\n      <th>17763</th>\n      <td>ec138c1c</td>\n      <td>acf50980a62ca93a</td>\n      <td>2019-08-12T19:32:50.470Z</td>\n      <td>{\"stage_number\":1,\"event_count\":2,\"game_time\":...</td>\n      <td>002db7e3</td>\n      <td>2</td>\n      <td>2020</td>\n      <td>0</td>\n      <td>Bird Measurer (Assessment)</td>\n      <td>Assessment</td>\n      <td>TREETOPCITY</td>\n    </tr>\n    <tr>\n      <th>17764</th>\n      <td>a16a373e</td>\n      <td>acf50980a62ca93a</td>\n      <td>2019-08-12T19:32:50.490Z</td>\n      <td>{\"coordinates\":{\"x\":261,\"y\":123,\"stage_width\":...</td>\n      <td>002db7e3</td>\n      <td>3</td>\n      <td>4070</td>\n      <td>0</td>\n      <td>Bird Measurer (Assessment)</td>\n      <td>Assessment</td>\n      <td>TREETOPCITY</td>\n    </tr>\n    <tr>\n      <th>17765</th>\n      <td>1375ccb7</td>\n      <td>acf50980a62ca93a</td>\n      <td>2019-08-12T19:32:50.500Z</td>\n      <td>{\"description\":\"Use the caterpillars to measur...</td>\n      <td>002db7e3</td>\n      <td>4</td>\n      <td>3010</td>\n      <td>0</td>\n      <td>Bird Measurer (Assessment)</td>\n      <td>Assessment</td>\n      <td>TREETOPCITY</td>\n    </tr>\n    <tr>\n      <th>17766</th>\n      <td>a16a373e</td>\n      <td>acf50980a62ca93a</td>\n      <td>2019-08-12T19:32:51.267Z</td>\n      <td>{\"coordinates\":{\"x\":252,\"y\":96,\"stage_width\":1...</td>\n      <td>002db7e3</td>\n      <td>5</td>\n      <td>4070</td>\n      <td>840</td>\n      <td>Bird Measurer (Assessment)</td>\n      <td>Assessment</td>\n      <td>TREETOPCITY</td>\n    </tr>\n    <tr>\n      <th>17767</th>\n      <td>a16a373e</td>\n      <td>acf50980a62ca93a</td>\n      <td>2019-08-12T19:32:51.628Z</td>\n      <td>{\"coordinates\":{\"x\":235,\"y\":42,\"stage_width\":1...</td>\n      <td>002db7e3</td>\n      <td>6</td>\n      <td>4070</td>\n      <td>1189</td>\n      <td>Bird Measurer (Assessment)</td>\n      <td>Assessment</td>\n      <td>TREETOPCITY</td>\n    </tr>\n    <tr>\n      <th>17768</th>\n      <td>a16a373e</td>\n      <td>acf50980a62ca93a</td>\n      <td>2019-08-12T19:32:51.640Z</td>\n      <td>{\"coordinates\":{\"x\":324,\"y\":164,\"stage_width\":...</td>\n      <td>002db7e3</td>\n      <td>7</td>\n      <td>4070</td>\n      <td>1189</td>\n      <td>Bird Measurer (Assessment)</td>\n      <td>Assessment</td>\n      <td>TREETOPCITY</td>\n    </tr>\n    <tr>\n      <th>17769</th>\n      <td>a16a373e</td>\n      <td>acf50980a62ca93a</td>\n      <td>2019-08-12T19:32:51.654Z</td>\n      <td>{\"coordinates\":{\"x\":308,\"y\":90,\"stage_width\":1...</td>\n      <td>002db7e3</td>\n      <td>8</td>\n      <td>4070</td>\n      <td>1189</td>\n      <td>Bird Measurer (Assessment)</td>\n      <td>Assessment</td>\n      <td>TREETOPCITY</td>\n    </tr>\n    <tr>\n      <th>17770</th>\n      <td>a16a373e</td>\n      <td>acf50980a62ca93a</td>\n      <td>2019-08-12T19:32:51.898Z</td>\n      <td>{\"coordinates\":{\"x\":147,\"y\":101,\"stage_width\":...</td>\n      <td>002db7e3</td>\n      <td>9</td>\n      <td>4070</td>\n      <td>1472</td>\n      <td>Bird Measurer (Assessment)</td>\n      <td>Assessment</td>\n      <td>TREETOPCITY</td>\n    </tr>\n    <tr>\n      <th>17771</th>\n      <td>a16a373e</td>\n      <td>acf50980a62ca93a</td>\n      <td>2019-08-12T19:32:51.911Z</td>\n      <td>{\"coordinates\":{\"x\":346,\"y\":217,\"stage_width\":...</td>\n      <td>002db7e3</td>\n      <td>10</td>\n      <td>4070</td>\n      <td>1472</td>\n      <td>Bird Measurer (Assessment)</td>\n      <td>Assessment</td>\n      <td>TREETOPCITY</td>\n    </tr>\n    <tr>\n      <th>17772</th>\n      <td>a16a373e</td>\n      <td>acf50980a62ca93a</td>\n      <td>2019-08-12T19:32:53.447Z</td>\n      <td>{\"coordinates\":{\"x\":867,\"y\":677,\"stage_width\":...</td>\n      <td>002db7e3</td>\n      <td>11</td>\n      <td>4070</td>\n      <td>3022</td>\n      <td>Bird Measurer (Assessment)</td>\n      <td>Assessment</td>\n      <td>TREETOPCITY</td>\n    </tr>\n    <tr>\n      <th>17773</th>\n      <td>bdf49a58</td>\n      <td>acf50980a62ca93a</td>\n      <td>2019-08-12T19:32:54.966Z</td>\n      <td>{\"description\":\"Use the caterpillars to measur...</td>\n      <td>002db7e3</td>\n      <td>12</td>\n      <td>3110</td>\n      <td>4556</td>\n      <td>Bird Measurer (Assessment)</td>\n      <td>Assessment</td>\n      <td>TREETOPCITY</td>\n    </tr>\n    <tr>\n      <th>17774</th>\n      <td>1375ccb7</td>\n      <td>acf50980a62ca93a</td>\n      <td>2019-08-12T20:04:01.986Z</td>\n      <td>{\"description\":\"Use the caterpillars to measur...</td>\n      <td>002db7e3</td>\n      <td>13</td>\n      <td>3010</td>\n      <td>7639</td>\n      <td>Bird Measurer (Assessment)</td>\n      <td>Assessment</td>\n      <td>TREETOPCITY</td>\n    </tr>\n  </tbody>\n</table>\n</div>",
      "text/plain": "       event_id      game_session                 timestamp  \\\n17762  f56e0afc  acf50980a62ca93a  2019-08-12T19:32:50.447Z   \n17763  ec138c1c  acf50980a62ca93a  2019-08-12T19:32:50.470Z   \n17764  a16a373e  acf50980a62ca93a  2019-08-12T19:32:50.490Z   \n17765  1375ccb7  acf50980a62ca93a  2019-08-12T19:32:50.500Z   \n17766  a16a373e  acf50980a62ca93a  2019-08-12T19:32:51.267Z   \n17767  a16a373e  acf50980a62ca93a  2019-08-12T19:32:51.628Z   \n17768  a16a373e  acf50980a62ca93a  2019-08-12T19:32:51.640Z   \n17769  a16a373e  acf50980a62ca93a  2019-08-12T19:32:51.654Z   \n17770  a16a373e  acf50980a62ca93a  2019-08-12T19:32:51.898Z   \n17771  a16a373e  acf50980a62ca93a  2019-08-12T19:32:51.911Z   \n17772  a16a373e  acf50980a62ca93a  2019-08-12T19:32:53.447Z   \n17773  bdf49a58  acf50980a62ca93a  2019-08-12T19:32:54.966Z   \n17774  1375ccb7  acf50980a62ca93a  2019-08-12T20:04:01.986Z   \n\n                                              event_data installation_id  \\\n17762  {\"version\":\"1.0\",\"event_count\":1,\"game_time\":0...        002db7e3   \n17763  {\"stage_number\":1,\"event_count\":2,\"game_time\":...        002db7e3   \n17764  {\"coordinates\":{\"x\":261,\"y\":123,\"stage_width\":...        002db7e3   \n17765  {\"description\":\"Use the caterpillars to measur...        002db7e3   \n17766  {\"coordinates\":{\"x\":252,\"y\":96,\"stage_width\":1...        002db7e3   \n17767  {\"coordinates\":{\"x\":235,\"y\":42,\"stage_width\":1...        002db7e3   \n17768  {\"coordinates\":{\"x\":324,\"y\":164,\"stage_width\":...        002db7e3   \n17769  {\"coordinates\":{\"x\":308,\"y\":90,\"stage_width\":1...        002db7e3   \n17770  {\"coordinates\":{\"x\":147,\"y\":101,\"stage_width\":...        002db7e3   \n17771  {\"coordinates\":{\"x\":346,\"y\":217,\"stage_width\":...        002db7e3   \n17772  {\"coordinates\":{\"x\":867,\"y\":677,\"stage_width\":...        002db7e3   \n17773  {\"description\":\"Use the caterpillars to measur...        002db7e3   \n17774  {\"description\":\"Use the caterpillars to measur...        002db7e3   \n\n       event_count  event_code  game_time                       title  \\\n17762            1        2000          0  Bird Measurer (Assessment)   \n17763            2        2020          0  Bird Measurer (Assessment)   \n17764            3        4070          0  Bird Measurer (Assessment)   \n17765            4        3010          0  Bird Measurer (Assessment)   \n17766            5        4070        840  Bird Measurer (Assessment)   \n17767            6        4070       1189  Bird Measurer (Assessment)   \n17768            7        4070       1189  Bird Measurer (Assessment)   \n17769            8        4070       1189  Bird Measurer (Assessment)   \n17770            9        4070       1472  Bird Measurer (Assessment)   \n17771           10        4070       1472  Bird Measurer (Assessment)   \n17772           11        4070       3022  Bird Measurer (Assessment)   \n17773           12        3110       4556  Bird Measurer (Assessment)   \n17774           13        3010       7639  Bird Measurer (Assessment)   \n\n             type        world  \n17762  Assessment  TREETOPCITY  \n17763  Assessment  TREETOPCITY  \n17764  Assessment  TREETOPCITY  \n17765  Assessment  TREETOPCITY  \n17766  Assessment  TREETOPCITY  \n17767  Assessment  TREETOPCITY  \n17768  Assessment  TREETOPCITY  \n17769  Assessment  TREETOPCITY  \n17770  Assessment  TREETOPCITY  \n17771  Assessment  TREETOPCITY  \n17772  Assessment  TREETOPCITY  \n17773  Assessment  TREETOPCITY  \n17774  Assessment  TREETOPCITY  "
     },
     "execution_count": 4,
     "metadata": {},
     "output_type": "execute_result"
    }
   ],
   "source": [
    "train[(train.installation_id=='002db7e3') & (train.type=='Assessment') & (train.game_session=='acf50980a62ca93a')]"
   ]
  },
  {
   "cell_type": "code",
   "execution_count": 5,
   "metadata": {},
   "outputs": [
    {
     "data": {
      "text/html": "<div>\n<style scoped>\n    .dataframe tbody tr th:only-of-type {\n        vertical-align: middle;\n    }\n\n    .dataframe tbody tr th {\n        vertical-align: top;\n    }\n\n    .dataframe thead th {\n        text-align: right;\n    }\n</style>\n<table border=\"1\" class=\"dataframe\">\n  <thead>\n    <tr style=\"text-align: right;\">\n      <th></th>\n      <th>game_session</th>\n      <th>installation_id</th>\n      <th>title</th>\n      <th>num_correct</th>\n      <th>num_incorrect</th>\n      <th>accuracy</th>\n      <th>accuracy_group</th>\n    </tr>\n  </thead>\n  <tbody>\n  </tbody>\n</table>\n</div>",
      "text/plain": "Empty DataFrame\nColumns: [game_session, installation_id, title, num_correct, num_incorrect, accuracy, accuracy_group]\nIndex: []"
     },
     "execution_count": 5,
     "metadata": {},
     "output_type": "execute_result"
    }
   ],
   "source": [
    "train_labels[train_labels.game_session=='acf50980a62ca93a']"
   ]
  },
  {
   "cell_type": "markdown",
   "execution_count": null,
   "metadata": {},
   "outputs": [],
   "source": [
    "From the above data, we can see there are some assessment the users have token but do not exist in the train_labels."
   ]
  },
  {
   "cell_type": "code",
   "execution_count": 6,
   "metadata": {},
   "outputs": [
    {
     "name": "stderr",
     "output_type": "stream",
     "text": "<ipython-input-6-2e485d5359c0>:1: UserWarning: Boolean Series key will be reindexed to match DataFrame index.\n  dropped_game_sessions = train[train.type=='Assessment'][~train.game_session.isin(train_labels.game_session.unique())].game_session.drop_duplicates()\n"
    }
   ],
   "source": [
    "dropped_game_sessions = train[train.type=='Assessment'][~train.game_session.isin(train_labels.game_session.unique())].game_session.drop_duplicates()"
   ]
  },
  {
   "cell_type": "code",
   "execution_count": 7,
   "metadata": {},
   "outputs": [],
   "source": [
    "tmp_train = train[~train.game_session.isin(dropped_game_sessions)]"
   ]
  },
  {
   "cell_type": "code",
   "execution_count": 8,
   "metadata": {},
   "outputs": [
    {
     "data": {
      "text/plain": "17690"
     },
     "execution_count": 8,
     "metadata": {},
     "output_type": "execute_result"
    }
   ],
   "source": [
    "tmp_train[tmp_train.type=='Assessment'].game_session.nunique()"
   ]
  },
  {
   "cell_type": "markdown",
   "execution_count": null,
   "metadata": {},
   "outputs": [],
   "source": [
    "Now the number of the unique sessions in training data matches the testing data."
   ]
  },
  {
   "cell_type": "code",
   "execution_count": 9,
   "metadata": {},
   "outputs": [],
   "source": [
    "train = tmp_train\n",
    "del tmp_train\n",
    "del dropped_game_sessions"
   ]
  },
  {
   "cell_type": "code",
   "execution_count": 10,
   "metadata": {},
   "outputs": [
    {
     "data": {
      "text/html": "<div>\n<style scoped>\n    .dataframe tbody tr th:only-of-type {\n        vertical-align: middle;\n    }\n\n    .dataframe tbody tr th {\n        vertical-align: top;\n    }\n\n    .dataframe thead th {\n        text-align: right;\n    }\n</style>\n<table border=\"1\" class=\"dataframe\">\n  <thead>\n    <tr style=\"text-align: right;\">\n      <th></th>\n      <th>event_id</th>\n      <th>game_session</th>\n      <th>timestamp</th>\n      <th>event_data</th>\n      <th>installation_id</th>\n      <th>event_count</th>\n      <th>event_code</th>\n      <th>game_time</th>\n      <th>title</th>\n      <th>type</th>\n      <th>world</th>\n    </tr>\n  </thead>\n  <tbody>\n    <tr>\n      <th>0</th>\n      <td>27253bdc</td>\n      <td>34ba1a28d02ba8ba</td>\n      <td>2019-08-06T04:57:18.904Z</td>\n      <td>{\"event_code\": 2000, \"event_count\": 1}</td>\n      <td>0006a69f</td>\n      <td>1</td>\n      <td>2000</td>\n      <td>0</td>\n      <td>Welcome to Lost Lagoon!</td>\n      <td>Clip</td>\n      <td>NONE</td>\n    </tr>\n    <tr>\n      <th>1</th>\n      <td>27253bdc</td>\n      <td>4b57c9a59474a1b9</td>\n      <td>2019-08-06T04:57:45.301Z</td>\n      <td>{\"event_code\": 2000, \"event_count\": 1}</td>\n      <td>0006a69f</td>\n      <td>1</td>\n      <td>2000</td>\n      <td>0</td>\n      <td>Magma Peak - Level 1</td>\n      <td>Clip</td>\n      <td>MAGMAPEAK</td>\n    </tr>\n    <tr>\n      <th>2</th>\n      <td>77261ab5</td>\n      <td>2b9d5af79bcdb79f</td>\n      <td>2019-08-06T04:58:14.538Z</td>\n      <td>{\"version\":\"1.0\",\"event_count\":1,\"game_time\":0...</td>\n      <td>0006a69f</td>\n      <td>1</td>\n      <td>2000</td>\n      <td>0</td>\n      <td>Sandcastle Builder (Activity)</td>\n      <td>Activity</td>\n      <td>MAGMAPEAK</td>\n    </tr>\n    <tr>\n      <th>3</th>\n      <td>b2dba42b</td>\n      <td>2b9d5af79bcdb79f</td>\n      <td>2019-08-06T04:58:14.615Z</td>\n      <td>{\"description\":\"Let's build a sandcastle! Firs...</td>\n      <td>0006a69f</td>\n      <td>2</td>\n      <td>3010</td>\n      <td>29</td>\n      <td>Sandcastle Builder (Activity)</td>\n      <td>Activity</td>\n      <td>MAGMAPEAK</td>\n    </tr>\n    <tr>\n      <th>4</th>\n      <td>1325467d</td>\n      <td>2b9d5af79bcdb79f</td>\n      <td>2019-08-06T04:58:16.680Z</td>\n      <td>{\"coordinates\":{\"x\":273,\"y\":650,\"stage_width\":...</td>\n      <td>0006a69f</td>\n      <td>3</td>\n      <td>4070</td>\n      <td>2137</td>\n      <td>Sandcastle Builder (Activity)</td>\n      <td>Activity</td>\n      <td>MAGMAPEAK</td>\n    </tr>\n    <tr>\n      <th>...</th>\n      <td>...</td>\n      <td>...</td>\n      <td>...</td>\n      <td>...</td>\n      <td>...</td>\n      <td>...</td>\n      <td>...</td>\n      <td>...</td>\n      <td>...</td>\n      <td>...</td>\n      <td>...</td>\n    </tr>\n    <tr>\n      <th>3796</th>\n      <td>832735e1</td>\n      <td>0721802df0531701</td>\n      <td>2019-08-29T16:33:53.227Z</td>\n      <td>{\"description\":\"Let's warm up. Tap a dinosaur ...</td>\n      <td>0006a69f</td>\n      <td>11</td>\n      <td>3010</td>\n      <td>23145</td>\n      <td>Dino Dive</td>\n      <td>Game</td>\n      <td>MAGMAPEAK</td>\n    </tr>\n    <tr>\n      <th>3797</th>\n      <td>ab3136ba</td>\n      <td>0721802df0531701</td>\n      <td>2019-08-29T16:33:56.880Z</td>\n      <td>{\"description\":\"Let's warm up. Tap a dinosaur ...</td>\n      <td>0006a69f</td>\n      <td>12</td>\n      <td>3110</td>\n      <td>26804</td>\n      <td>Dino Dive</td>\n      <td>Game</td>\n      <td>MAGMAPEAK</td>\n    </tr>\n    <tr>\n      <th>3798</th>\n      <td>832735e1</td>\n      <td>0721802df0531701</td>\n      <td>2019-08-29T16:34:11.881Z</td>\n      <td>{\"description\":\"Let's warm up. Tap a dinosaur ...</td>\n      <td>0006a69f</td>\n      <td>13</td>\n      <td>3010</td>\n      <td>41805</td>\n      <td>Dino Dive</td>\n      <td>Game</td>\n      <td>MAGMAPEAK</td>\n    </tr>\n    <tr>\n      <th>3799</th>\n      <td>ab3136ba</td>\n      <td>0721802df0531701</td>\n      <td>2019-08-29T16:34:15.480Z</td>\n      <td>{\"description\":\"Let's warm up. Tap a dinosaur ...</td>\n      <td>0006a69f</td>\n      <td>14</td>\n      <td>3110</td>\n      <td>45405</td>\n      <td>Dino Dive</td>\n      <td>Game</td>\n      <td>MAGMAPEAK</td>\n    </tr>\n    <tr>\n      <th>3800</th>\n      <td>76babcde</td>\n      <td>0721802df0531701</td>\n      <td>2019-08-29T16:39:12.615Z</td>\n      <td>{\"coordinates\":{\"x\":1013,\"y\":195,\"stage_width\"...</td>\n      <td>0006a69f</td>\n      <td>15</td>\n      <td>4070</td>\n      <td>167337</td>\n      <td>Dino Dive</td>\n      <td>Game</td>\n      <td>MAGMAPEAK</td>\n    </tr>\n  </tbody>\n</table>\n<p>3784 rows × 11 columns</p>\n</div>",
      "text/plain": "      event_id      game_session                 timestamp  \\\n0     27253bdc  34ba1a28d02ba8ba  2019-08-06T04:57:18.904Z   \n1     27253bdc  4b57c9a59474a1b9  2019-08-06T04:57:45.301Z   \n2     77261ab5  2b9d5af79bcdb79f  2019-08-06T04:58:14.538Z   \n3     b2dba42b  2b9d5af79bcdb79f  2019-08-06T04:58:14.615Z   \n4     1325467d  2b9d5af79bcdb79f  2019-08-06T04:58:16.680Z   \n...        ...               ...                       ...   \n3796  832735e1  0721802df0531701  2019-08-29T16:33:53.227Z   \n3797  ab3136ba  0721802df0531701  2019-08-29T16:33:56.880Z   \n3798  832735e1  0721802df0531701  2019-08-29T16:34:11.881Z   \n3799  ab3136ba  0721802df0531701  2019-08-29T16:34:15.480Z   \n3800  76babcde  0721802df0531701  2019-08-29T16:39:12.615Z   \n\n                                             event_data installation_id  \\\n0                {\"event_code\": 2000, \"event_count\": 1}        0006a69f   \n1                {\"event_code\": 2000, \"event_count\": 1}        0006a69f   \n2     {\"version\":\"1.0\",\"event_count\":1,\"game_time\":0...        0006a69f   \n3     {\"description\":\"Let's build a sandcastle! Firs...        0006a69f   \n4     {\"coordinates\":{\"x\":273,\"y\":650,\"stage_width\":...        0006a69f   \n...                                                 ...             ...   \n3796  {\"description\":\"Let's warm up. Tap a dinosaur ...        0006a69f   \n3797  {\"description\":\"Let's warm up. Tap a dinosaur ...        0006a69f   \n3798  {\"description\":\"Let's warm up. Tap a dinosaur ...        0006a69f   \n3799  {\"description\":\"Let's warm up. Tap a dinosaur ...        0006a69f   \n3800  {\"coordinates\":{\"x\":1013,\"y\":195,\"stage_width\"...        0006a69f   \n\n      event_count  event_code  game_time                          title  \\\n0               1        2000          0        Welcome to Lost Lagoon!   \n1               1        2000          0           Magma Peak - Level 1   \n2               1        2000          0  Sandcastle Builder (Activity)   \n3               2        3010         29  Sandcastle Builder (Activity)   \n4               3        4070       2137  Sandcastle Builder (Activity)   \n...           ...         ...        ...                            ...   \n3796           11        3010      23145                      Dino Dive   \n3797           12        3110      26804                      Dino Dive   \n3798           13        3010      41805                      Dino Dive   \n3799           14        3110      45405                      Dino Dive   \n3800           15        4070     167337                      Dino Dive   \n\n          type      world  \n0         Clip       NONE  \n1         Clip  MAGMAPEAK  \n2     Activity  MAGMAPEAK  \n3     Activity  MAGMAPEAK  \n4     Activity  MAGMAPEAK  \n...        ...        ...  \n3796      Game  MAGMAPEAK  \n3797      Game  MAGMAPEAK  \n3798      Game  MAGMAPEAK  \n3799      Game  MAGMAPEAK  \n3800      Game  MAGMAPEAK  \n\n[3784 rows x 11 columns]"
     },
     "execution_count": 10,
     "metadata": {},
     "output_type": "execute_result"
    }
   ],
   "source": [
    "train[train.installation_id=='0006a69f']"
   ]
  },
  {
   "cell_type": "markdown",
   "execution_count": null,
   "metadata": {},
   "outputs": [],
   "source": [
    "## Data Preprocessing\n",
    "\n",
    "### Missing Value"
   ]
  },
  {
   "cell_type": "code",
   "execution_count": 11,
   "metadata": {},
   "outputs": [
    {
     "data": {
      "text/plain": "[]"
     },
     "execution_count": 11,
     "metadata": {},
     "output_type": "execute_result"
    }
   ],
   "source": [
    "cols_with_missing = [col for col in train.columns if train[col].isnull().any()]\n",
    "cols_with_missing"
   ]
  },
  {
   "cell_type": "code",
   "execution_count": 12,
   "metadata": {},
   "outputs": [],
   "source": [
    "# there is no missing value in the data\n",
    "del cols_with_missing"
   ]
  },
  {
   "cell_type": "code",
   "execution_count": 13,
   "metadata": {},
   "outputs": [
    {
     "data": {
      "text/html": "<div>\n<style scoped>\n    .dataframe tbody tr th:only-of-type {\n        vertical-align: middle;\n    }\n\n    .dataframe tbody tr th {\n        vertical-align: top;\n    }\n\n    .dataframe thead th {\n        text-align: right;\n    }\n</style>\n<table border=\"1\" class=\"dataframe\">\n  <thead>\n    <tr style=\"text-align: right;\">\n      <th></th>\n      <th>event_id</th>\n      <th>game_session</th>\n      <th>timestamp</th>\n      <th>event_data</th>\n      <th>installation_id</th>\n      <th>event_count</th>\n      <th>event_code</th>\n      <th>game_time</th>\n      <th>title</th>\n      <th>type</th>\n      <th>world</th>\n    </tr>\n  </thead>\n  <tbody>\n    <tr>\n      <th>647</th>\n      <td>3bfd1a65</td>\n      <td>901acc108f55a5a1</td>\n      <td>2019-08-06T05:22:01.344Z</td>\n      <td>{\"version\":\"1.0\",\"event_count\":1,\"game_time\":0...</td>\n      <td>0006a69f</td>\n      <td>1</td>\n      <td>2000</td>\n      <td>0</td>\n      <td>Mushroom Sorter (Assessment)</td>\n      <td>Assessment</td>\n      <td>TREETOPCITY</td>\n    </tr>\n    <tr>\n      <th>648</th>\n      <td>db02c830</td>\n      <td>901acc108f55a5a1</td>\n      <td>2019-08-06T05:22:01.400Z</td>\n      <td>{\"event_count\":2,\"game_time\":37,\"event_code\":2...</td>\n      <td>0006a69f</td>\n      <td>2</td>\n      <td>2025</td>\n      <td>37</td>\n      <td>Mushroom Sorter (Assessment)</td>\n      <td>Assessment</td>\n      <td>TREETOPCITY</td>\n    </tr>\n    <tr>\n      <th>649</th>\n      <td>a1e4395d</td>\n      <td>901acc108f55a5a1</td>\n      <td>2019-08-06T05:22:01.403Z</td>\n      <td>{\"description\":\"Pull three mushrooms out of th...</td>\n      <td>0006a69f</td>\n      <td>3</td>\n      <td>3010</td>\n      <td>37</td>\n      <td>Mushroom Sorter (Assessment)</td>\n      <td>Assessment</td>\n      <td>TREETOPCITY</td>\n    </tr>\n    <tr>\n      <th>650</th>\n      <td>a52b92d5</td>\n      <td>901acc108f55a5a1</td>\n      <td>2019-08-06T05:22:05.242Z</td>\n      <td>{\"description\":\"Pull three mushrooms out of th...</td>\n      <td>0006a69f</td>\n      <td>4</td>\n      <td>3110</td>\n      <td>3901</td>\n      <td>Mushroom Sorter (Assessment)</td>\n      <td>Assessment</td>\n      <td>TREETOPCITY</td>\n    </tr>\n    <tr>\n      <th>651</th>\n      <td>a1e4395d</td>\n      <td>901acc108f55a5a1</td>\n      <td>2019-08-06T05:22:05.244Z</td>\n      <td>{\"description\":\"To pick a mushroom, pull it ou...</td>\n      <td>0006a69f</td>\n      <td>5</td>\n      <td>3010</td>\n      <td>3901</td>\n      <td>Mushroom Sorter (Assessment)</td>\n      <td>Assessment</td>\n      <td>TREETOPCITY</td>\n    </tr>\n    <tr>\n      <th>...</th>\n      <td>...</td>\n      <td>...</td>\n      <td>...</td>\n      <td>...</td>\n      <td>...</td>\n      <td>...</td>\n      <td>...</td>\n      <td>...</td>\n      <td>...</td>\n      <td>...</td>\n      <td>...</td>\n    </tr>\n    <tr>\n      <th>2613</th>\n      <td>8fee50e2</td>\n      <td>a9ef3ecb3d1acc6a</td>\n      <td>2019-08-06T20:50:30.601Z</td>\n      <td>{\"hat\":8,\"destination\":\"middle\",\"coordinates\":...</td>\n      <td>0006a69f</td>\n      <td>28</td>\n      <td>4020</td>\n      <td>31551</td>\n      <td>Bird Measurer (Assessment)</td>\n      <td>Assessment</td>\n      <td>TREETOPCITY</td>\n    </tr>\n    <tr>\n      <th>2614</th>\n      <td>a16a373e</td>\n      <td>a9ef3ecb3d1acc6a</td>\n      <td>2019-08-06T20:50:32.888Z</td>\n      <td>{\"coordinates\":{\"x\":539,\"y\":73,\"stage_width\":1...</td>\n      <td>0006a69f</td>\n      <td>29</td>\n      <td>4070</td>\n      <td>33818</td>\n      <td>Bird Measurer (Assessment)</td>\n      <td>Assessment</td>\n      <td>TREETOPCITY</td>\n    </tr>\n    <tr>\n      <th>2615</th>\n      <td>070a5291</td>\n      <td>a9ef3ecb3d1acc6a</td>\n      <td>2019-08-06T20:50:33.283Z</td>\n      <td>{\"correct\":true,\"hats\":[4,8,5],\"event_count\":3...</td>\n      <td>0006a69f</td>\n      <td>30</td>\n      <td>4100</td>\n      <td>34209</td>\n      <td>Bird Measurer (Assessment)</td>\n      <td>Assessment</td>\n      <td>TREETOPCITY</td>\n    </tr>\n    <tr>\n      <th>2616</th>\n      <td>f6947f54</td>\n      <td>a9ef3ecb3d1acc6a</td>\n      <td>2019-08-06T20:50:33.289Z</td>\n      <td>{\"duration\":17742,\"misses\":0,\"stage_number\":2,...</td>\n      <td>0006a69f</td>\n      <td>31</td>\n      <td>2030</td>\n      <td>34209</td>\n      <td>Bird Measurer (Assessment)</td>\n      <td>Assessment</td>\n      <td>TREETOPCITY</td>\n    </tr>\n    <tr>\n      <th>2617</th>\n      <td>3393b68b</td>\n      <td>a9ef3ecb3d1acc6a</td>\n      <td>2019-08-06T20:50:35.426Z</td>\n      <td>{\"session_duration\":36368,\"event_count\":32,\"ga...</td>\n      <td>0006a69f</td>\n      <td>32</td>\n      <td>2010</td>\n      <td>36368</td>\n      <td>Bird Measurer (Assessment)</td>\n      <td>Assessment</td>\n      <td>TREETOPCITY</td>\n    </tr>\n  </tbody>\n</table>\n<p>244 rows × 11 columns</p>\n</div>",
      "text/plain": "      event_id      game_session                 timestamp  \\\n647   3bfd1a65  901acc108f55a5a1  2019-08-06T05:22:01.344Z   \n648   db02c830  901acc108f55a5a1  2019-08-06T05:22:01.400Z   \n649   a1e4395d  901acc108f55a5a1  2019-08-06T05:22:01.403Z   \n650   a52b92d5  901acc108f55a5a1  2019-08-06T05:22:05.242Z   \n651   a1e4395d  901acc108f55a5a1  2019-08-06T05:22:05.244Z   \n...        ...               ...                       ...   \n2613  8fee50e2  a9ef3ecb3d1acc6a  2019-08-06T20:50:30.601Z   \n2614  a16a373e  a9ef3ecb3d1acc6a  2019-08-06T20:50:32.888Z   \n2615  070a5291  a9ef3ecb3d1acc6a  2019-08-06T20:50:33.283Z   \n2616  f6947f54  a9ef3ecb3d1acc6a  2019-08-06T20:50:33.289Z   \n2617  3393b68b  a9ef3ecb3d1acc6a  2019-08-06T20:50:35.426Z   \n\n                                             event_data installation_id  \\\n647   {\"version\":\"1.0\",\"event_count\":1,\"game_time\":0...        0006a69f   \n648   {\"event_count\":2,\"game_time\":37,\"event_code\":2...        0006a69f   \n649   {\"description\":\"Pull three mushrooms out of th...        0006a69f   \n650   {\"description\":\"Pull three mushrooms out of th...        0006a69f   \n651   {\"description\":\"To pick a mushroom, pull it ou...        0006a69f   \n...                                                 ...             ...   \n2613  {\"hat\":8,\"destination\":\"middle\",\"coordinates\":...        0006a69f   \n2614  {\"coordinates\":{\"x\":539,\"y\":73,\"stage_width\":1...        0006a69f   \n2615  {\"correct\":true,\"hats\":[4,8,5],\"event_count\":3...        0006a69f   \n2616  {\"duration\":17742,\"misses\":0,\"stage_number\":2,...        0006a69f   \n2617  {\"session_duration\":36368,\"event_count\":32,\"ga...        0006a69f   \n\n      event_count  event_code  game_time                         title  \\\n647             1        2000          0  Mushroom Sorter (Assessment)   \n648             2        2025         37  Mushroom Sorter (Assessment)   \n649             3        3010         37  Mushroom Sorter (Assessment)   \n650             4        3110       3901  Mushroom Sorter (Assessment)   \n651             5        3010       3901  Mushroom Sorter (Assessment)   \n...           ...         ...        ...                           ...   \n2613           28        4020      31551    Bird Measurer (Assessment)   \n2614           29        4070      33818    Bird Measurer (Assessment)   \n2615           30        4100      34209    Bird Measurer (Assessment)   \n2616           31        2030      34209    Bird Measurer (Assessment)   \n2617           32        2010      36368    Bird Measurer (Assessment)   \n\n            type        world  \n647   Assessment  TREETOPCITY  \n648   Assessment  TREETOPCITY  \n649   Assessment  TREETOPCITY  \n650   Assessment  TREETOPCITY  \n651   Assessment  TREETOPCITY  \n...          ...          ...  \n2613  Assessment  TREETOPCITY  \n2614  Assessment  TREETOPCITY  \n2615  Assessment  TREETOPCITY  \n2616  Assessment  TREETOPCITY  \n2617  Assessment  TREETOPCITY  \n\n[244 rows x 11 columns]"
     },
     "execution_count": 13,
     "metadata": {},
     "output_type": "execute_result"
    }
   ],
   "source": [
    "# train[train.installation_id=='0006a69f'].groupby('game_session').reset_index().sort_value('timestamp', ascending=True)\n",
    "train[(train.installation_id=='0006a69f') & (train.type=='Assessment')]"
   ]
  }
 ],
 "metadata": {
  "language_info": {
   "codemirror_mode": {
    "name": "ipython",
    "version": 2
   },
   "file_extension": ".py",
   "mimetype": "text/x-python",
   "name": "python",
   "nbconvert_exporter": "python",
   "pygments_lexer": "ipython2",
   "version": "3.8.0"
  },
  "kernelspec": {
   "name": "python3",
   "language": "python",
   "display_name": "Python 3"
  },
  "pycharm": {
   "stem_cell": {
    "cell_type": "raw",
    "source": [],
    "metadata": {
     "collapsed": false
    }
   }
  }
 },
 "nbformat": 4,
 "nbformat_minor": 0
}